{
 "cells": [
  {
   "cell_type": "code",
   "execution_count": 1,
   "id": "688b2cac-2a5d-4417-8005-63b5b1914ea3",
   "metadata": {
    "execution": {
     "iopub.execute_input": "2024-03-15T15:11:23.528632Z",
     "iopub.status.busy": "2024-03-15T15:11:23.528096Z",
     "iopub.status.idle": "2024-03-15T15:11:24.520001Z",
     "shell.execute_reply": "2024-03-15T15:11:24.518921Z",
     "shell.execute_reply.started": "2024-03-15T15:11:23.528568Z"
    },
    "tags": []
   },
   "outputs": [],
   "source": [
    "import numpy as np\n",
    "import pandas as pd"
   ]
  },
  {
   "cell_type": "markdown",
   "id": "9cef36e6-8261-4802-a50c-462cfe072771",
   "metadata": {},
   "source": [
    "<div style=\"background-color: #0056D2; padding: 10px 0; text-align: center;\">\n",
    "    <h2 style=\"color: white; font-family: Roboto; font-weight: bold;\">Load the Dataset from Jojie</h2>\n",
    "</div>\n"
   ]
  },
  {
   "cell_type": "code",
   "execution_count": 3,
   "id": "d9791005-e647-4b4c-82f6-78483600ca71",
   "metadata": {
    "execution": {
     "iopub.execute_input": "2024-03-15T15:17:56.857675Z",
     "iopub.status.busy": "2024-03-15T15:17:56.857068Z",
     "iopub.status.idle": "2024-03-15T15:18:00.353177Z",
     "shell.execute_reply": "2024-03-15T15:18:00.352076Z",
     "shell.execute_reply.started": "2024-03-15T15:17:56.857614Z"
    },
    "tags": []
   },
   "outputs": [],
   "source": [
    "df = pd.read_csv('/mnt/data/public/coursera-reviews/Coursera_reviews.csv')"
   ]
  },
  {
   "cell_type": "markdown",
   "id": "6e83bd74-9b3f-4ae3-b888-e5613258f021",
   "metadata": {},
   "source": [
    "<div style=\"background-color: #0056D2; padding: 10px 0; text-align: center;\">\n",
    "    <h2 style=\"color: white; font-family: Roboto; font-weight: bold;\">Save the Dataset as CSV File</h2>\n",
    "</div>\n"
   ]
  },
  {
   "cell_type": "code",
   "execution_count": 4,
   "id": "35db92cf-3673-4193-bc92-357b9ba7ea28",
   "metadata": {
    "execution": {
     "iopub.execute_input": "2024-03-15T15:18:15.013572Z",
     "iopub.status.busy": "2024-03-15T15:18:15.013160Z",
     "iopub.status.idle": "2024-03-15T15:18:24.732969Z",
     "shell.execute_reply": "2024-03-15T15:18:24.730298Z",
     "shell.execute_reply.started": "2024-03-15T15:18:15.013537Z"
    },
    "tags": []
   },
   "outputs": [],
   "source": [
    "df.to_csv('Coursera_reviews.csv', index=False)"
   ]
  }
 ],
 "metadata": {
  "kernelspec": {
   "display_name": "Python 3 (ipykernel)",
   "language": "python",
   "name": "python3"
  },
  "language_info": {
   "codemirror_mode": {
    "name": "ipython",
    "version": 3
   },
   "file_extension": ".py",
   "mimetype": "text/x-python",
   "name": "python",
   "nbconvert_exporter": "python",
   "pygments_lexer": "ipython3",
   "version": "3.10.12"
  }
 },
 "nbformat": 4,
 "nbformat_minor": 5
}
